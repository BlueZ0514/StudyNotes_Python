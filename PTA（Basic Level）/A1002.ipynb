{
 "cells": [
  {
   "cell_type": "markdown",
   "metadata": {},
   "source": [
    "# 1002 写出这个数 （20 分）\n",
    "- 读入一个正整数 n，计算其各位数字之和，用汉语拼音写出和的每一位数字。\n",
    "## 输入格式：\n",
    "- 每个测试输入包含 1 个测试用例，即给出自然数 n 的值。这里保证 n 小于 10^100\n",
    "## 输出格式：\n",
    "- 在一行内输出 n 的各位数字之和的每一位，拼音数字间有 1 空格，但一行中最后一个拼音数字后没有空格。"
   ]
  },
  {
   "cell_type": "markdown",
   "metadata": {},
   "source": [
    "### 输入样例："
   ]
  },
  {
   "cell_type": "raw",
   "metadata": {},
   "source": [
    "1234567890987654321123456789"
   ]
  },
  {
   "cell_type": "markdown",
   "metadata": {},
   "source": [
    "### 输出样例："
   ]
  },
  {
   "cell_type": "raw",
   "metadata": {},
   "source": [
    "yi san wu"
   ]
  },
  {
   "cell_type": "markdown",
   "metadata": {},
   "source": [
    "---"
   ]
  },
  {
   "cell_type": "code",
   "execution_count": 5,
   "metadata": {},
   "outputs": [
    {
     "name": "stdout",
     "output_type": "stream",
     "text": [
      "1234567890987654321123456789\n",
      "yi san wu\n"
     ]
    }
   ],
   "source": [
    "numCN = {\"0\":\"ling\", \"1\":\"yi\", \"2\":\"er\", \"3\":\"san\", \"4\":\"si\", \"5\":\"wu\", \"6\":\"liu\", \"7\":\"qi\", \"8\":\"ba\", \"9\":\"jiu\"}\n",
    "inp = input()\n",
    "sum = 0\n",
    "for s in inp:\n",
    "    sum += int(s)\n",
    "print(\" \".join([numCN[i] for i in str(sum)]))"
   ]
  },
  {
   "cell_type": "markdown",
   "metadata": {},
   "source": [
    "# 提交成功\n",
    "- 使用str(),int()，方便的在数字与字符串类型间相互转换"
   ]
  }
 ],
 "metadata": {
  "kernelspec": {
   "display_name": "Python 3",
   "language": "python",
   "name": "python3"
  },
  "language_info": {
   "codemirror_mode": {
    "name": "ipython",
    "version": 3
   },
   "file_extension": ".py",
   "mimetype": "text/x-python",
   "name": "python",
   "nbconvert_exporter": "python",
   "pygments_lexer": "ipython3",
   "version": "3.7.0"
  }
 },
 "nbformat": 4,
 "nbformat_minor": 2
}
