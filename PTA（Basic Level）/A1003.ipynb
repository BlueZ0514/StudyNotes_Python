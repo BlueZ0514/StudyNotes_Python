{
 "cells": [
  {
   "cell_type": "markdown",
   "metadata": {},
   "source": [
    "# 1003 我要通过！ （20 分）\n",
    "- “答案正确”是自动判题系统给出的最令人欢喜的回复。本题属于 PAT 的“答案正确”大派送 —— 只要读入的字符串满足下列条件，系统就输出“答案正确”，否则输出“答案错误”。\n",
    "- 得到“答案正确”的条件是：\n",
    "  - 字符串中必须仅有 P、 A、 T这三种字符，不可以包含其它字符；\n",
    "  - 任意形如 xPATx 的字符串都可以获得“答案正确”，其中 x 或者是空字符串，或者是仅由字母 A 组成的字符串；\n",
    "  - 如果 aPbTc 是正确的，那么 aPbATca 也是正确的，其中 a、 b、 c 均或者是空字符串，或者是仅由字母 A 组成的字符串。\n",
    "- 现在就请你为 PAT 写一个自动裁判程序，判定哪些字符串是可以获得“答案正确”的。\n",
    "## 输入格式：\n",
    "- 每个测试输入包含 1 个测试用例。第 1 行给出一个正整数 n (<10)，是需要检测的字符串个数。接下来每个字符串占一行，字符串长度不超过 100，且不包含空格。\n",
    "## 输出格式：\n",
    "- 每个字符串的检测结果占一行，如果该字符串可以获得“答案正确”，则输出 YES，否则输出 NO。"
   ]
  },
  {
   "cell_type": "markdown",
   "metadata": {},
   "source": [
    "### 输入样例："
   ]
  },
  {
   "cell_type": "raw",
   "metadata": {},
   "source": [
    "8\n",
    "PAT\n",
    "PAAT\n",
    "AAPATAA\n",
    "AAPAATAAAA\n",
    "xPATx\n",
    "PT\n",
    "Whatever\n",
    "APAAATAA"
   ]
  },
  {
   "cell_type": "markdown",
   "metadata": {},
   "source": [
    "### 输出样例："
   ]
  },
  {
   "cell_type": "raw",
   "metadata": {},
   "source": [
    "YES\n",
    "YES\n",
    "YES\n",
    "YES\n",
    "NO\n",
    "NO\n",
    "NO\n",
    "NO"
   ]
  },
  {
   "cell_type": "markdown",
   "metadata": {},
   "source": [
    "---"
   ]
  },
  {
   "cell_type": "markdown",
   "metadata": {},
   "source": [
    "- 分析题中“答案正确”的三个条件可以看出\n",
    "   - 正确答案的形式为 aPbTc，其中a，c为空字符串或仅由字母A组成的字符串，b为仅由字母A组成的字符串(不可为空）\n",
    "   - 正确答案的条件可由递归得到：b中每减少一个字母A，c中减少一个a，直到b中仅含一个字母A时，a，c中字母数量相同，即为正确答案\n",
    "- 编程需要解决的几个问题\n",
    "   - 判断给定字符串的形式是否符合正确答案的形式\n",
    "   - 计算a，b，c三个字符串的长度，并进行判断\n",
    "     - 字符串函数split()只支持单分隔符，使用split()需要截取两次\n",
    "     - 或者导入re模块，使用re.split()来进行多分隔符的截取\n",
    "- 注意多行输入全部完成后再进行输出，否则会造成混乱"
   ]
  },
  {
   "cell_type": "code",
   "execution_count": 2,
   "metadata": {},
   "outputs": [
    {
     "name": "stdout",
     "output_type": "stream",
     "text": [
      "8\n",
      "PAT\n",
      "PAAT\n",
      "AAPATAA\n",
      "AAPAATAAAA\n",
      "xPATx\n",
      "PT\n",
      "Whatever\n",
      "APAAATAA\n",
      "YES\n",
      "YES\n",
      "YES\n",
      "YES\n",
      "NO\n",
      "NO\n",
      "NO\n",
      "NO\n"
     ]
    }
   ],
   "source": [
    "def isright(str):\n",
    "    if str.replace(\"A\",\"\") != \"PT\":\n",
    "        return False\n",
    "    str1 = str.split(\"P\")\n",
    "    str2 = str1[1].split(\"T\")\n",
    "    a = len(str1[0])\n",
    "    b = len(str2[0])\n",
    "    c = len(str2[1])\n",
    "    if b < 1:\n",
    "        return False\n",
    "    while b != 1:\n",
    "        b -= 1\n",
    "        c -= a\n",
    "    return a == c\n",
    "\n",
    "\n",
    "inp = int(input())\n",
    "strtest = []\n",
    "for i in range(inp):\n",
    "    strtest.append(input())\n",
    "for s in strtest:\n",
    "    if isright(s):\n",
    "        print(\"YES\")\n",
    "    else:\n",
    "        print(\"NO\")"
   ]
  },
  {
   "cell_type": "markdown",
   "metadata": {},
   "source": [
    "# 提交通过"
   ]
  }
 ],
 "metadata": {
  "kernelspec": {
   "display_name": "Python 3",
   "language": "python",
   "name": "python3"
  },
  "language_info": {
   "codemirror_mode": {
    "name": "ipython",
    "version": 3
   },
   "file_extension": ".py",
   "mimetype": "text/x-python",
   "name": "python",
   "nbconvert_exporter": "python",
   "pygments_lexer": "ipython3",
   "version": "3.7.0"
  }
 },
 "nbformat": 4,
 "nbformat_minor": 2
}
